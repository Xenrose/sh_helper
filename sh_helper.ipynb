{
 "cells": [
  {
   "cell_type": "markdown",
   "metadata": {},
   "source": [
    "# Import package"
   ]
  },
  {
   "cell_type": "code",
   "execution_count": 1,
   "metadata": {},
   "outputs": [],
   "source": [
    "'''\n",
    "python main.py “input 최상위 경로” “output 최상위 경로”\n",
    "\n",
    "Scripter 강승현\n",
    "'''\n",
    "# python I/O\n",
    "from pathlib import Path\n",
    "import json, sys, os, shutil\n",
    "from tqdm import tqdm\n",
    "from copy import deepcopy\n",
    "\n",
    "# 데이터 분석\n",
    "import pandas as pd\n",
    "import numpy as np\n",
    "\n",
    "# bbox 및 시각화\n",
    "import cv2\n",
    "from shapely import Polygon\n",
    "from PIL import Image, ImageDraw, ImageDraw, ImageFont\n",
    "\n",
    "# wav / soundfile\n",
    "import librosa, soundfile\n",
    "\n",
    "# json view\n",
    "from collections import OrderedDict\n",
    "from pprint import pprint \n",
    "\n",
    "# ETC\n",
    "import random\n",
    "import string"
   ]
  },
  {
   "cell_type": "code",
   "execution_count": null,
   "metadata": {},
   "outputs": [],
   "source": [
    "import warnings\n",
    "warnings.filterwarnings('ignore')"
   ]
  },
  {
   "cell_type": "markdown",
   "metadata": {},
   "source": [
    "# COLOR & FONT"
   ]
  },
  {
   "cell_type": "code",
   "execution_count": null,
   "metadata": {},
   "outputs": [],
   "source": [
    "# 각종 색값\n",
    "class COLOR:\n",
    "    # B G R\n",
    "    red = (0, 0, 255)\n",
    "    green = (30, 255, 30)\n",
    "    blue = (255,0, 0)\n",
    "    yellow = (30, 255, 255)\n",
    "    purple = (180, 85, 162)"
   ]
  },
  {
   "cell_type": "code",
   "execution_count": null,
   "metadata": {},
   "outputs": [],
   "source": [
    "# cv2에서 사용할 font\n",
    "class FONT:\n",
    "    font1 = cv2.FONT_HERSHEY_SIMPLEX\n",
    "    font2 = cv2.FONT_HERSHEY_PLAIN"
   ]
  },
  {
   "cell_type": "markdown",
   "metadata": {},
   "source": [
    "# Coordinate"
   ]
  },
  {
   "cell_type": "code",
   "execution_count": null,
   "metadata": {},
   "outputs": [],
   "source": [
    "# key값을 x, y를 갖는 dict 타입의 json을 읽을때 사용\n",
    "def get_points(coords:list) -> list:\n",
    "    return [list(map(int,(br['x'], br[\"y\"]))) for br in coords]"
   ]
  },
  {
   "cell_type": "code",
   "execution_count": null,
   "metadata": {},
   "outputs": [],
   "source": [
    "# shapely.Polygon 객체를 통해 중앙값을 출력. (text를 출력하기 위해 사용)\n",
    "def get_center_point(coordinates:list) -> tuple:\n",
    "    poly = Polygon(coordinates)\n",
    "    center = poly.centroid\n",
    "    return (center.x, center.y)"
   ]
  },
  {
   "cell_type": "markdown",
   "metadata": {},
   "source": [
    "# Get Text"
   ]
  },
  {
   "cell_type": "code",
   "execution_count": null,
   "metadata": {},
   "outputs": [],
   "source": [
    "# image, image에 출력할 text 위치, 출력할 text, text color, text size, text 굵기를 입력 받아 image에 text를 출력함\n",
    "# test = True일 경우 cv2 image가 출력되어 image 변화를 확인할 수 있음.\n",
    "def get_text_PIL(image, text_coords:list, text:str, color:COLOR, \n",
    "                 font_scale: int = 20, thickness: int = 1, test = False) -> np.array:\n",
    "    image = Image.fromarray(image) # numpy -> PIL\n",
    "\n",
    "    draw = ImageDraw.Draw(image)\n",
    "    font = ImageFont.truetype(\"gulim.ttc\", font_scale)\n",
    "\n",
    "    draw.text(xy = text_coords, \n",
    "              anchor = \"mm\", # (가로) middle / (세로) middle\n",
    "              text = text, \n",
    "              fill = color,\n",
    "              font = font,\n",
    "              stroke_width = thickness)\n",
    "    \n",
    "    image = np.array(image) # PIL -> numpy\n",
    "\n",
    "\n",
    "    if test:\n",
    "        cv2.imshow('image', image)\n",
    "        cv2.waitKey(0)\n",
    "        cv2.destroyAllWindows()\n",
    "    return image"
   ]
  },
  {
   "cell_type": "code",
   "execution_count": null,
   "metadata": {},
   "outputs": [],
   "source": [
    "# image에 text를 그리는 cv2버전 함수. 단, PIL패키지를 활용하는것이 더 가독성 좋은 text를 작성할 수 있음.\n",
    "def get_text_cv2(image, text_coords:list, text:str, font: FONT, color:COLOR, \n",
    "                 font_scale = 2, thickness: int = 2) -> np.array:\n",
    "    image = cv2.putText(img = image,\n",
    "                        text = text,\n",
    "                        org = text_coords,\n",
    "                        fontScale = font_scale,\n",
    "                        color = color,\n",
    "                        fontFace = font,\n",
    "                        thickness = thickness)\n",
    "    \n",
    "    return image"
   ]
  },
  {
   "cell_type": "markdown",
   "metadata": {},
   "source": [
    "# Bbox"
   ]
  },
  {
   "cell_type": "code",
   "execution_count": null,
   "metadata": {},
   "outputs": [],
   "source": [
    "# cv2.imread를 사용할 경우 경로에 한글이 존재하면 오류가 발생하므로 예외사항 발생 회피를 위해 활용하는 코드\n",
    "def imread(filename, flags=cv2.IMREAD_COLOR, dtype=np.uint8) -> None:\n",
    "    try:\n",
    "        n = np.fromfile(filename, dtype)\n",
    "        img = cv2.imdecode(n, flags)\n",
    "        return img\n",
    "    except Exception as e:\n",
    "        print(e)"
   ]
  },
  {
   "cell_type": "code",
   "execution_count": null,
   "metadata": {},
   "outputs": [],
   "source": [
    "def imwrite(filename, img, params=None):\n",
    "    try:\n",
    "        ext = os.path.splitext(filename)[1]\n",
    "        result, n = cv2.imencode(ext, img, params)\n",
    "\n",
    "        if result:\n",
    "            with open(filename, mode='w+b') as f:\n",
    "                n.tofile(f)\n",
    "            return True\n",
    "        else:\n",
    "            return False\n",
    "    except Exception as e:\n",
    "        print(e)"
   ]
  },
  {
   "cell_type": "code",
   "execution_count": null,
   "metadata": {},
   "outputs": [],
   "source": [
    "#         # x  # y\n",
    "# coord = [[45, 27], # 좌측 하단\n",
    "#         [178, 124]] # 우측 상단\n",
    "# image crop을 위한 코드. shape(2, 2) list를 입력 받아서 해당 list의 위치대로 crop 함.\n",
    "def crop_image(image, coord) -> np.array:\n",
    "        crop_image = image[coord[0][1]:coord[1][1],  # 가로\n",
    "                        coord[0][0]:coord[1][0]].copy()  # 세로\n",
    "        \n",
    "        return crop_image"
   ]
  },
  {
   "cell_type": "code",
   "execution_count": null,
   "metadata": {},
   "outputs": [],
   "source": [
    "# image, bbox 좌표, 색값, 두께를 입력 받아 image 내 bbox를 출력해주는 함수.\n",
    "# buffer << 실제 bbox에서 buffer의 크기만큼 bbox를 키움.\n",
    "# bbox를 그리는 함수. coordinates의 shape이 (-1, 2)형태를 띄워야 하며, coordinates를 읽어서 bbox의 좌하단 우상단 값을 출력하여 image에 bbox를 그려줌.\n",
    "def create_bbox(image, coordinates: list, color: COLOR, buffer: int = 0, thickness: int = 2, test = False) -> np.array:\n",
    "    coordinates = [x for coord in coordinates for x in coord]\n",
    "    coordinates = np.array(coordinates).reshape(-1, 2).tolist()\n",
    "    points_x = [p[0] for p in coordinates]\n",
    "    points_y = [p[1] for p in coordinates]\n",
    "\n",
    "    image = cv2.rectangle(image, \n",
    "                  [(min(points_x) - buffer),(min(points_y) - buffer)],\n",
    "                  [(max(points_x) + buffer),(max(points_y) + buffer)],\n",
    "                  color=color, \n",
    "                  thickness=thickness)\n",
    "    \n",
    "    # for test\n",
    "    if test:\n",
    "        cv2.imshow('image', image)\n",
    "        cv2.waitKey(0)\n",
    "        cv2.destroyAllWindows()\n",
    "\n",
    "    return image"
   ]
  },
  {
   "cell_type": "markdown",
   "metadata": {},
   "source": [
    "# Segmentation"
   ]
  },
  {
   "cell_type": "code",
   "execution_count": null,
   "metadata": {},
   "outputs": [],
   "source": [
    "# segmentation을 그려주는 함수.\n",
    "# 단, cv2.fillPoly 하나의 메소드로 사용 가능하므로 함수보다는 메소드를 사용하는것을 추천.\n",
    "def create_segmentation(image, points:list, color) -> np.array:\n",
    "    image = cv2.fillPoly(image, [points], color)\n",
    "    return image"
   ]
  },
  {
   "cell_type": "code",
   "execution_count": null,
   "metadata": {},
   "outputs": [],
   "source": [
    "# origin_img: 배경\n",
    "# 1: origin_img의 가중치\n",
    "# seg_img: segment 이미지\n",
    "# alpha: segment 이미지의 가중치 (높을 수록 진해짐)\n",
    "# 원본 이미지 가중치가 (1-alpha)가 아닌 이유: alpha가 높아짐에 따라 원본 이미지의 명도가 낮아짐.\n",
    "final_img = cv2.addWeighted(origin_img, 1, seg_img, alpha, 0) "
   ]
  },
  {
   "cell_type": "markdown",
   "metadata": {},
   "source": [
    "# IOU"
   ]
  },
  {
   "cell_type": "code",
   "execution_count": null,
   "metadata": {},
   "outputs": [],
   "source": [
    "# iou 값 계산 함수\n",
    "def calculate_iou(polygon1, polygon2):\n",
    "    intersection = polygon1.intersection(polygon2).area\n",
    "    union = polygon1.union(polygon2).area\n",
    "    iou = intersection / union\n",
    "    return iou"
   ]
  },
  {
   "cell_type": "code",
   "execution_count": null,
   "metadata": {},
   "outputs": [],
   "source": [
    "# word의 iou를 계산하여 어떤 div/br에 속하는지 반환해주는 함수\n",
    "def check_iou(div_info:dict, points:list) -> int:\n",
    "    # 해당 json에 div 영역이 없는 경우\n",
    "    if div_info == {}:\n",
    "        return 0, False\n",
    "    \n",
    "    target = Polygon(points).buffer(0)\n",
    "\n",
    "    iou_list = []\n",
    "    div_key = []\n",
    "    for key, div in div_info.items():\n",
    "        temp_poly = Polygon(div).buffer(0)\n",
    "        iou = calculate_iou(target, temp_poly)\n",
    "        iou_list.append(iou)\n",
    "        div_key.append(key)\n",
    "\n",
    "    if set(iou_list) == {0.0}: # div에 속하지 않는 word (유령 객체)\n",
    "        return 0, False\n",
    "    \n",
    "    # iou max값이 2 이상이라는 의미는 해당 word는 서로 다른 2개 이상의 div에 덮어 씌워진다는 의미\n",
    "    log = True if iou_list.count(max(iou_list)) > 1 else False \n",
    "\n",
    "    return div_key[iou_list.index(max(iou_list))], log\n"
   ]
  },
  {
   "cell_type": "markdown",
   "metadata": {},
   "source": [
    "# json view"
   ]
  },
  {
   "cell_type": "code",
   "execution_count": 3,
   "metadata": {},
   "outputs": [],
   "source": [
    "# json의 indent 값까지 출력하여 보기 편한 출력 함수.\n",
    "# 단, pprint 함수 하나만 사용해도 충분하므로 굳이 사용하는걸 추천하지는 않음.\n",
    "def json_view(json_path) -> None:    \n",
    "    if type(json_path)==str:\n",
    "        test_json = open(json_path, 'r', encoding='utf-8')\n",
    "        data = json.loads(test_json, object_pairs_hook=OrderedDict)\n",
    "        \n",
    "    elif type(json_path)==WindowsPath:\n",
    "        data = json.loads(json_path.read_text(encoding='utf-8'), object_pairs_hook=OrderedDict)\n",
    "\n",
    "    pprint(data)"
   ]
  },
  {
   "cell_type": "markdown",
   "metadata": {},
   "source": [
    "# to treeD"
   ]
  },
  {
   "cell_type": "code",
   "execution_count": null,
   "metadata": {},
   "outputs": [],
   "source": [
    "def treeD_object(id:str = \"\",\n",
    "                 classId:int = 0,\n",
    "                 className:str = \"\",\n",
    "                 annotation:str = \"\",\n",
    "                 zOrder:int = 0,\n",
    "                 group:list = [],\n",
    "                 points:list = []) -> OrderedDict:\n",
    "\n",
    "    output = OrderedDict({\"id\": id,\n",
    "                        \"classId\": classId,\n",
    "                        \"className\": className,\n",
    "                        \"annotation\": annotation,\n",
    "                        \"zOrder\": zOrder,\n",
    "                        \"group\": group,\n",
    "                        \"points\": points})\n",
    "\n",
    "    return output"
   ]
  },
  {
   "cell_type": "code",
   "execution_count": null,
   "metadata": {},
   "outputs": [],
   "source": [
    "def treeD_attributes(title:str = \"\",\n",
    "                     type_:str = \"\",\n",
    "                     optionType:str = \"\",\n",
    "                     values:list = []) -> OrderedDict:\n",
    "\n",
    "    output = OrderedDict({\"title\": title,\n",
    "                        \"type\": type_,\n",
    "                        \"optionType\": optionType,\n",
    "                        \"values\": values})\n",
    "    return output"
   ]
  },
  {
   "cell_type": "code",
   "execution_count": null,
   "metadata": {},
   "outputs": [],
   "source": [
    "def treeD_info(imageName:str = \"\",\n",
    "                width:int = 0,\n",
    "                height:int = 0,\n",
    "                labeler:str = \"\",\n",
    "                examinator:str = \"\",\n",
    "                timestamp:int = 0,\n",
    "                format:str = \"\",\n",
    "                fileSize:int = 0,\n",
    "                dirPath:str = \"\",\n",
    "                projectName:str = \"\",\n",
    "                taskName:str = \"\") -> OrderedDict:\n",
    "    \n",
    "    format = imageName.split(\".\")[-1]\n",
    "    \n",
    "    output = OrderedDict({\"imageName\": imageName,\n",
    "                        \"width\": width,\n",
    "                        \"height\": height,\n",
    "                        \"labeler\": labeler,\n",
    "                        \"examinator\": examinator,\n",
    "                        \"timestamp\": timestamp,\n",
    "                        \"format\": format,\n",
    "                        \"fileSize\": fileSize,\n",
    "                        \"dirPath\": dirPath,\n",
    "                        \"projectName\": projectName,\n",
    "                        \"taskName\": taskName})\n",
    "\n",
    "    return output"
   ]
  },
  {
   "cell_type": "markdown",
   "metadata": {},
   "source": [
    "# from treeD"
   ]
  },
  {
   "cell_type": "code",
   "execution_count": null,
   "metadata": {},
   "outputs": [],
   "source": [
    "json_data = ...\n",
    "\n",
    "# objects\n",
    "for i in range(len(json_data['objects'])):\n",
    "    id = json_data['objects'][i]['id']\n",
    "    classId = json_data['objects'][i]['classId']\n",
    "    className = json_data['objects'][i]['className']\n",
    "    annotation = json_data['objects'][i]['annotation']\n",
    "    zOrder = json_data['objects'][i]['zOrder']\n",
    "    group = json_data['objects'][i]['group']\n",
    "    points = json_data['objects'][i]['points']\n",
    "    attributes = json_data['objects'][i]['attributes']\n",
    "    \n",
    "    # attributes element\n",
    "    attributes_title = json_data['objects'][i]['attributes'][0]['title']\n",
    "    attributes_type = json_data['objects'][i]['attributes'][0]['type']\n",
    "    attributes_optionType = json_data['objects'][i]['attributes'][0]['optionType']\n",
    "    attributes_values = json_data['objects'][i]['attributes'][0]['values']"
   ]
  },
  {
   "cell_type": "code",
   "execution_count": null,
   "metadata": {},
   "outputs": [],
   "source": [
    "json_data = ...\n",
    "\n",
    "# info\n",
    "imageName = json_data['info']['imageName']\n",
    "width = json_data['info']['width']\n",
    "height = json_data['info']['height']\n",
    "labeler = json_data['info']['labeler']\n",
    "examinator = json_data['info']['examinator']\n",
    "timestamp = json_data['info']['timestamp']\n",
    "format = json_data['info']['format']\n",
    "fileSize = json_data['info']['fileSize']\n",
    "dirPath = json_data['info']['dirPath']\n",
    "projectName =  json_data['info']['projectName']\n",
    "taskName =  json_data['info']['taskName']"
   ]
  },
  {
   "cell_type": "markdown",
   "metadata": {},
   "source": [
    "# ETC"
   ]
  },
  {
   "cell_type": "code",
   "execution_count": null,
   "metadata": {},
   "outputs": [],
   "source": [
    "# input 폴더 구조를 output에 그대로 구현해주는 코드.\n",
    "# another_suffix를 입력할 경우 final_path에는 해당 확장자로 출력됨.\n",
    "###### input 폴더 구조 유지 ######\n",
    "def create_folder_structure(file_path:Path, output_path:Path, another_suffix:str = False) -> Path:\n",
    "    test = list(file_path.parts)\n",
    "    test[0] = output_path\n",
    "\n",
    "    if another_suffix:\n",
    "        test[-1] = file_path.stem + another_suffix\n",
    "\n",
    "    final_path = Path(*test)\n",
    "\n",
    "    path_ = Path()\n",
    "    for path in final_path.parts[:-1]:\n",
    "        path_ = Path(path_, path)\n",
    "        if not os.path.isdir(path_):\n",
    "            os.mkdir(path_)\n",
    "\n",
    "    return final_path\n",
    "#################################"
   ]
  },
  {
   "cell_type": "code",
   "execution_count": null,
   "metadata": {},
   "outputs": [],
   "source": [
    "# input_path와 확장자명을 입력 받아 input_path 내 모든 경로의 파일 중 입력 받은 확장자 파일에 대한 \n",
    "# 경로를 list 타입으로 반환해주는 코드.\n",
    "def find_root_file_to_list(data_dir:Path, ext:str) -> list:\n",
    "    file_list = []\n",
    "    for (root, _, files) in os.walk(data_dir):\n",
    "        for file in files:\n",
    "            file_path = Path(root) / file\n",
    "            if file_path.suffix == ext:\n",
    "                file_list.append(file_path)\n",
    "    return file_list # ['file_full_path']"
   ]
  },
  {
   "cell_type": "code",
   "execution_count": null,
   "metadata": {},
   "outputs": [],
   "source": [
    "# input_path와 확장자명을 입력 받아 input_path 내 모든 경로의 파일 중 입력 받은 확장자 파일에 대한 \n",
    "# 경로를 dict 타입으로 반환해주는 코드.\n",
    "# input_path 내 모든 경로의 파일 중 입력 받은 파일 확장자에 대해서만 file_stem과 경로를 dict으로 반환해주는 코드.\n",
    "def find_root_file_to_dict(data_dir:Path, ext:str) -> dict:\n",
    "    file_dict = {}\n",
    "    for (root, _, files) in os.walk(data_dir):\n",
    "        for file in files:\n",
    "            file_path = Path(root) / file\n",
    "            if file_path.suffix == ext:\n",
    "                file_dict[file_path.stem] = file_path\n",
    "    return file_dict # {'file_stem' : 'file_full_path'}"
   ]
  },
  {
   "cell_type": "code",
   "execution_count": 11,
   "metadata": {},
   "outputs": [],
   "source": [
    "# input_path와 여러개의 확장자명을 입력 받아 input_path 내 모든 경로의 파일 중 입력 받은 확장자 파일에 대한 \n",
    "# 경로를 dict 타입으로 반환해주는 코드.\n",
    "# 예상되는 확장자가 여러개일 경우 사용\n",
    "# ex) jpg jpeg png\n",
    "def find_root_files_to_dict(data_dir:Path, ext:list) -> dict:\n",
    "    file_dict = {}\n",
    "    for (root, _, files) in os.walk(data_dir):\n",
    "        for file in files:\n",
    "            file_path = Path(root) / file\n",
    "            if file_path.suffix in ext:\n",
    "                file_dict[file_path.stem] = file_path\n",
    "    return file_dict # {'file_stem' : 'file_full_path'}"
   ]
  },
  {
   "cell_type": "code",
   "execution_count": 10,
   "metadata": {},
   "outputs": [],
   "source": [
    "# input_path와 파일명을 입력 받아 input_path 내 모든 경로의 파일 중 입력 받은 확장자 파일에 대한 \n",
    "# 경로를 dict 타입으로 반환해주는 코드.\n",
    "# 특정 문구가 포함되어 있는지\n",
    "def find_root_target_file_to_dict(data_dir:Path, check_name:str) -> dict:\n",
    "    file_dict = {}\n",
    "    for (root, _, files) in os.walk(data_dir):\n",
    "        for file in files:\n",
    "            file_path = Path(root) / file\n",
    "            if check_name in str(file_path):\n",
    "                file_dict[file_path.stem] = file_path\n",
    "    return file_dict # {'file_stem' : 'file_full_path'}"
   ]
  },
  {
   "cell_type": "code",
   "execution_count": null,
   "metadata": {},
   "outputs": [],
   "source": [
    "def random_id():\n",
    "    front = ''.join(random.choices(string.ascii_lowercase + string.digits, k=11))\n",
    "    back = 'T' + ''.join([str(random.choice(range(10))) for _ in range(7)]) \n",
    "    random_id = f'{front}-{back}'\n",
    "    return random_id"
   ]
  },
  {
   "cell_type": "code",
   "execution_count": null,
   "metadata": {},
   "outputs": [],
   "source": [
    "\n",
    "def extract_class_id(class_id_path):\n",
    "    j = open(class_id_path, 'r', encoding='utf-8')\n",
    "    temp_j = json.load(j)\n",
    "    temp_dict = {temp_j['interface']['classData'][i]['name']: temp_j['interface']['classData'][i]['id'] \\\n",
    "                 for i in range(len(temp_j['interface']['classData']))}\n",
    "    \n",
    "    return temp_dict"
   ]
  },
  {
   "cell_type": "code",
   "execution_count": null,
   "metadata": {},
   "outputs": [],
   "source": [
    "if __name__ == \"__main__\":\n",
    "    test_path = [\".\", \"./input/\", './output/']\n",
    "    _, input_path, output_path = map(Path, test_path)\n",
    "    # _, input_path, output_path = map(Path, sys.argv)\n",
    "\n",
    "    if not os.path.isdir(output_path): os.mkdir(output_path)\n",
    "    \n",
    "\n",
    "    for json_file in tqdm(list(input_path.rglob(\"*.json\")), desc=\"진행도\"):\n",
    "        json_data = json.loads(json_file.read_text(encoding='utf-8'))"
   ]
  }
 ],
 "metadata": {
  "kernelspec": {
   "display_name": "Python 3",
   "language": "python",
   "name": "python3"
  },
  "language_info": {
   "codemirror_mode": {
    "name": "ipython",
    "version": 3
   },
   "file_extension": ".py",
   "mimetype": "text/x-python",
   "name": "python",
   "nbconvert_exporter": "python",
   "pygments_lexer": "ipython3",
   "version": "3.11.9"
  }
 },
 "nbformat": 4,
 "nbformat_minor": 2
}
